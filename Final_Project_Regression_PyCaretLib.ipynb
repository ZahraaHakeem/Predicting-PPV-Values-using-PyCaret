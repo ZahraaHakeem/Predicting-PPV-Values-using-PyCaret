{
 "cells": [
  {
   "cell_type": "code",
   "execution_count": null,
   "metadata": {},
   "outputs": [],
   "source": [
    "#!pip install pycaret"
   ]
  },
  {
   "cell_type": "markdown",
   "metadata": {},
   "source": [
    "## Load Data"
   ]
  },
  {
   "cell_type": "code",
   "execution_count": 75,
   "metadata": {},
   "outputs": [
    {
     "data": {
      "text/html": [
       "<div>\n",
       "<style scoped>\n",
       "    .dataframe tbody tr th:only-of-type {\n",
       "        vertical-align: middle;\n",
       "    }\n",
       "\n",
       "    .dataframe tbody tr th {\n",
       "        vertical-align: top;\n",
       "    }\n",
       "\n",
       "    .dataframe thead th {\n",
       "        text-align: right;\n",
       "    }\n",
       "</style>\n",
       "<table border=\"1\" class=\"dataframe\">\n",
       "  <thead>\n",
       "    <tr style=\"text-align: right;\">\n",
       "      <th></th>\n",
       "      <th>Gender</th>\n",
       "      <th>Age</th>\n",
       "      <th>Dur</th>\n",
       "      <th>PPV</th>\n",
       "    </tr>\n",
       "  </thead>\n",
       "  <tbody>\n",
       "    <tr>\n",
       "      <th>0</th>\n",
       "      <td>Male</td>\n",
       "      <td>0</td>\n",
       "      <td>20</td>\n",
       "      <td>15.198437</td>\n",
       "    </tr>\n",
       "    <tr>\n",
       "      <th>1</th>\n",
       "      <td>Male</td>\n",
       "      <td>0</td>\n",
       "      <td>21</td>\n",
       "      <td>15.741015</td>\n",
       "    </tr>\n",
       "    <tr>\n",
       "      <th>2</th>\n",
       "      <td>Male</td>\n",
       "      <td>0</td>\n",
       "      <td>22</td>\n",
       "      <td>16.267189</td>\n",
       "    </tr>\n",
       "    <tr>\n",
       "      <th>3</th>\n",
       "      <td>Male</td>\n",
       "      <td>0</td>\n",
       "      <td>23</td>\n",
       "      <td>16.777448</td>\n",
       "    </tr>\n",
       "    <tr>\n",
       "      <th>4</th>\n",
       "      <td>Male</td>\n",
       "      <td>0</td>\n",
       "      <td>24</td>\n",
       "      <td>17.272269</td>\n",
       "    </tr>\n",
       "  </tbody>\n",
       "</table>\n",
       "</div>"
      ],
      "text/plain": [
       "  Gender  Age  Dur        PPV\n",
       "0   Male    0   20  15.198437\n",
       "1   Male    0   21  15.741015\n",
       "2   Male    0   22  16.267189\n",
       "3   Male    0   23  16.777448\n",
       "4   Male    0   24  17.272269"
      ]
     },
     "execution_count": 75,
     "metadata": {},
     "output_type": "execute_result"
    }
   ],
   "source": [
    "import pandas  as pd\n",
    "from pycaret.regression import  *\n",
    "\n",
    "df = pd.read_excel('TG_T_CashValues_Rel.xlsx')\n",
    "df.head()\n"
   ]
  },
  {
   "cell_type": "markdown",
   "metadata": {},
   "source": [
    "## Init Setup\n",
    "This step initializes the environment by preprocessing the dataset, automatically handling missing values, encoding categorical features, scaling numeric features, and splitting the data into training and testing sets, ensuring the data is ready for machine learning model training."
   ]
  },
  {
   "cell_type": "code",
   "execution_count": 76,
   "metadata": {},
   "outputs": [
    {
     "data": {
      "text/html": [
       "<style type=\"text/css\">\n",
       "#T_a8aa4_row9_col1 {\n",
       "  background-color: lightgreen;\n",
       "}\n",
       "</style>\n",
       "<table id=\"T_a8aa4\">\n",
       "  <thead>\n",
       "    <tr>\n",
       "      <th class=\"blank level0\" >&nbsp;</th>\n",
       "      <th id=\"T_a8aa4_level0_col0\" class=\"col_heading level0 col0\" >Description</th>\n",
       "      <th id=\"T_a8aa4_level0_col1\" class=\"col_heading level0 col1\" >Value</th>\n",
       "    </tr>\n",
       "  </thead>\n",
       "  <tbody>\n",
       "    <tr>\n",
       "      <th id=\"T_a8aa4_level0_row0\" class=\"row_heading level0 row0\" >0</th>\n",
       "      <td id=\"T_a8aa4_row0_col0\" class=\"data row0 col0\" >Session id</td>\n",
       "      <td id=\"T_a8aa4_row0_col1\" class=\"data row0 col1\" >100</td>\n",
       "    </tr>\n",
       "    <tr>\n",
       "      <th id=\"T_a8aa4_level0_row1\" class=\"row_heading level0 row1\" >1</th>\n",
       "      <td id=\"T_a8aa4_row1_col0\" class=\"data row1 col0\" >Target</td>\n",
       "      <td id=\"T_a8aa4_row1_col1\" class=\"data row1 col1\" >PPV</td>\n",
       "    </tr>\n",
       "    <tr>\n",
       "      <th id=\"T_a8aa4_level0_row2\" class=\"row_heading level0 row2\" >2</th>\n",
       "      <td id=\"T_a8aa4_row2_col0\" class=\"data row2 col0\" >Target type</td>\n",
       "      <td id=\"T_a8aa4_row2_col1\" class=\"data row2 col1\" >Regression</td>\n",
       "    </tr>\n",
       "    <tr>\n",
       "      <th id=\"T_a8aa4_level0_row3\" class=\"row_heading level0 row3\" >3</th>\n",
       "      <td id=\"T_a8aa4_row3_col0\" class=\"data row3 col0\" >Original data shape</td>\n",
       "      <td id=\"T_a8aa4_row3_col1\" class=\"data row3 col1\" >(5270, 4)</td>\n",
       "    </tr>\n",
       "    <tr>\n",
       "      <th id=\"T_a8aa4_level0_row4\" class=\"row_heading level0 row4\" >4</th>\n",
       "      <td id=\"T_a8aa4_row4_col0\" class=\"data row4 col0\" >Transformed data shape</td>\n",
       "      <td id=\"T_a8aa4_row4_col1\" class=\"data row4 col1\" >(5270, 4)</td>\n",
       "    </tr>\n",
       "    <tr>\n",
       "      <th id=\"T_a8aa4_level0_row5\" class=\"row_heading level0 row5\" >5</th>\n",
       "      <td id=\"T_a8aa4_row5_col0\" class=\"data row5 col0\" >Transformed train set shape</td>\n",
       "      <td id=\"T_a8aa4_row5_col1\" class=\"data row5 col1\" >(4216, 4)</td>\n",
       "    </tr>\n",
       "    <tr>\n",
       "      <th id=\"T_a8aa4_level0_row6\" class=\"row_heading level0 row6\" >6</th>\n",
       "      <td id=\"T_a8aa4_row6_col0\" class=\"data row6 col0\" >Transformed test set shape</td>\n",
       "      <td id=\"T_a8aa4_row6_col1\" class=\"data row6 col1\" >(1054, 4)</td>\n",
       "    </tr>\n",
       "    <tr>\n",
       "      <th id=\"T_a8aa4_level0_row7\" class=\"row_heading level0 row7\" >7</th>\n",
       "      <td id=\"T_a8aa4_row7_col0\" class=\"data row7 col0\" >Numeric features</td>\n",
       "      <td id=\"T_a8aa4_row7_col1\" class=\"data row7 col1\" >2</td>\n",
       "    </tr>\n",
       "    <tr>\n",
       "      <th id=\"T_a8aa4_level0_row8\" class=\"row_heading level0 row8\" >8</th>\n",
       "      <td id=\"T_a8aa4_row8_col0\" class=\"data row8 col0\" >Categorical features</td>\n",
       "      <td id=\"T_a8aa4_row8_col1\" class=\"data row8 col1\" >1</td>\n",
       "    </tr>\n",
       "    <tr>\n",
       "      <th id=\"T_a8aa4_level0_row9\" class=\"row_heading level0 row9\" >9</th>\n",
       "      <td id=\"T_a8aa4_row9_col0\" class=\"data row9 col0\" >Preprocess</td>\n",
       "      <td id=\"T_a8aa4_row9_col1\" class=\"data row9 col1\" >True</td>\n",
       "    </tr>\n",
       "    <tr>\n",
       "      <th id=\"T_a8aa4_level0_row10\" class=\"row_heading level0 row10\" >10</th>\n",
       "      <td id=\"T_a8aa4_row10_col0\" class=\"data row10 col0\" >Imputation type</td>\n",
       "      <td id=\"T_a8aa4_row10_col1\" class=\"data row10 col1\" >simple</td>\n",
       "    </tr>\n",
       "    <tr>\n",
       "      <th id=\"T_a8aa4_level0_row11\" class=\"row_heading level0 row11\" >11</th>\n",
       "      <td id=\"T_a8aa4_row11_col0\" class=\"data row11 col0\" >Numeric imputation</td>\n",
       "      <td id=\"T_a8aa4_row11_col1\" class=\"data row11 col1\" >mean</td>\n",
       "    </tr>\n",
       "    <tr>\n",
       "      <th id=\"T_a8aa4_level0_row12\" class=\"row_heading level0 row12\" >12</th>\n",
       "      <td id=\"T_a8aa4_row12_col0\" class=\"data row12 col0\" >Categorical imputation</td>\n",
       "      <td id=\"T_a8aa4_row12_col1\" class=\"data row12 col1\" >mode</td>\n",
       "    </tr>\n",
       "    <tr>\n",
       "      <th id=\"T_a8aa4_level0_row13\" class=\"row_heading level0 row13\" >13</th>\n",
       "      <td id=\"T_a8aa4_row13_col0\" class=\"data row13 col0\" >Maximum one-hot encoding</td>\n",
       "      <td id=\"T_a8aa4_row13_col1\" class=\"data row13 col1\" >25</td>\n",
       "    </tr>\n",
       "    <tr>\n",
       "      <th id=\"T_a8aa4_level0_row14\" class=\"row_heading level0 row14\" >14</th>\n",
       "      <td id=\"T_a8aa4_row14_col0\" class=\"data row14 col0\" >Encoding method</td>\n",
       "      <td id=\"T_a8aa4_row14_col1\" class=\"data row14 col1\" >None</td>\n",
       "    </tr>\n",
       "    <tr>\n",
       "      <th id=\"T_a8aa4_level0_row15\" class=\"row_heading level0 row15\" >15</th>\n",
       "      <td id=\"T_a8aa4_row15_col0\" class=\"data row15 col0\" >Fold Generator</td>\n",
       "      <td id=\"T_a8aa4_row15_col1\" class=\"data row15 col1\" >KFold</td>\n",
       "    </tr>\n",
       "    <tr>\n",
       "      <th id=\"T_a8aa4_level0_row16\" class=\"row_heading level0 row16\" >16</th>\n",
       "      <td id=\"T_a8aa4_row16_col0\" class=\"data row16 col0\" >Fold Number</td>\n",
       "      <td id=\"T_a8aa4_row16_col1\" class=\"data row16 col1\" >10</td>\n",
       "    </tr>\n",
       "    <tr>\n",
       "      <th id=\"T_a8aa4_level0_row17\" class=\"row_heading level0 row17\" >17</th>\n",
       "      <td id=\"T_a8aa4_row17_col0\" class=\"data row17 col0\" >CPU Jobs</td>\n",
       "      <td id=\"T_a8aa4_row17_col1\" class=\"data row17 col1\" >-1</td>\n",
       "    </tr>\n",
       "    <tr>\n",
       "      <th id=\"T_a8aa4_level0_row18\" class=\"row_heading level0 row18\" >18</th>\n",
       "      <td id=\"T_a8aa4_row18_col0\" class=\"data row18 col0\" >Use GPU</td>\n",
       "      <td id=\"T_a8aa4_row18_col1\" class=\"data row18 col1\" >False</td>\n",
       "    </tr>\n",
       "    <tr>\n",
       "      <th id=\"T_a8aa4_level0_row19\" class=\"row_heading level0 row19\" >19</th>\n",
       "      <td id=\"T_a8aa4_row19_col0\" class=\"data row19 col0\" >Log Experiment</td>\n",
       "      <td id=\"T_a8aa4_row19_col1\" class=\"data row19 col1\" >False</td>\n",
       "    </tr>\n",
       "    <tr>\n",
       "      <th id=\"T_a8aa4_level0_row20\" class=\"row_heading level0 row20\" >20</th>\n",
       "      <td id=\"T_a8aa4_row20_col0\" class=\"data row20 col0\" >Experiment Name</td>\n",
       "      <td id=\"T_a8aa4_row20_col1\" class=\"data row20 col1\" >reg-default-name</td>\n",
       "    </tr>\n",
       "    <tr>\n",
       "      <th id=\"T_a8aa4_level0_row21\" class=\"row_heading level0 row21\" >21</th>\n",
       "      <td id=\"T_a8aa4_row21_col0\" class=\"data row21 col0\" >USI</td>\n",
       "      <td id=\"T_a8aa4_row21_col1\" class=\"data row21 col1\" >a5bd</td>\n",
       "    </tr>\n",
       "  </tbody>\n",
       "</table>\n"
      ],
      "text/plain": [
       "<pandas.io.formats.style.Styler at 0x118e0653650>"
      ]
     },
     "metadata": {},
     "output_type": "display_data"
    }
   ],
   "source": [
    "#s = setup(df, target='PPV', train_size=0.8, session_id=100)\n",
    "s = setup(df, target='PPV', train_size=0.8, session_id=100, \n",
    "          numeric_features=['Age', 'Dur'], \n",
    "          categorical_features=['Gender'])\n"
   ]
  },
  {
   "cell_type": "markdown",
   "metadata": {},
   "source": [
    "## Compare Models \n",
    "The compare_models() function compares multiple models based on performance metrics, selecting the best model\n",
    "\n"
   ]
  },
  {
   "cell_type": "code",
   "execution_count": 77,
   "metadata": {},
   "outputs": [
    {
     "data": {
      "text/html": [],
      "text/plain": [
       "<IPython.core.display.HTML object>"
      ]
     },
     "metadata": {},
     "output_type": "display_data"
    },
    {
     "data": {
      "text/html": [
       "<style type=\"text/css\">\n",
       "#T_b800e th {\n",
       "  text-align: left;\n",
       "}\n",
       "#T_b800e_row0_col0, #T_b800e_row1_col0, #T_b800e_row1_col1, #T_b800e_row1_col2, #T_b800e_row1_col3, #T_b800e_row1_col4, #T_b800e_row1_col5, #T_b800e_row1_col6, #T_b800e_row2_col0, #T_b800e_row2_col1, #T_b800e_row2_col2, #T_b800e_row2_col3, #T_b800e_row2_col4, #T_b800e_row2_col5, #T_b800e_row2_col6, #T_b800e_row3_col0, #T_b800e_row3_col1, #T_b800e_row3_col2, #T_b800e_row3_col3, #T_b800e_row3_col4, #T_b800e_row3_col5, #T_b800e_row3_col6, #T_b800e_row4_col0, #T_b800e_row4_col1, #T_b800e_row4_col2, #T_b800e_row4_col3, #T_b800e_row4_col4, #T_b800e_row4_col5, #T_b800e_row4_col6, #T_b800e_row5_col0, #T_b800e_row5_col1, #T_b800e_row5_col2, #T_b800e_row5_col3, #T_b800e_row5_col4, #T_b800e_row5_col5, #T_b800e_row5_col6, #T_b800e_row6_col0, #T_b800e_row6_col1, #T_b800e_row6_col2, #T_b800e_row6_col3, #T_b800e_row6_col4, #T_b800e_row6_col5, #T_b800e_row6_col6, #T_b800e_row7_col0, #T_b800e_row7_col1, #T_b800e_row7_col2, #T_b800e_row7_col3, #T_b800e_row7_col4, #T_b800e_row7_col5, #T_b800e_row7_col6, #T_b800e_row8_col0, #T_b800e_row8_col1, #T_b800e_row8_col2, #T_b800e_row8_col3, #T_b800e_row8_col4, #T_b800e_row8_col5, #T_b800e_row8_col6, #T_b800e_row9_col0, #T_b800e_row9_col1, #T_b800e_row9_col2, #T_b800e_row9_col3, #T_b800e_row9_col4, #T_b800e_row9_col5, #T_b800e_row9_col6, #T_b800e_row10_col0, #T_b800e_row10_col1, #T_b800e_row10_col2, #T_b800e_row10_col3, #T_b800e_row10_col4, #T_b800e_row10_col5, #T_b800e_row10_col6, #T_b800e_row11_col0, #T_b800e_row11_col1, #T_b800e_row11_col2, #T_b800e_row11_col3, #T_b800e_row11_col4, #T_b800e_row11_col5, #T_b800e_row11_col6, #T_b800e_row12_col0, #T_b800e_row12_col1, #T_b800e_row12_col2, #T_b800e_row12_col3, #T_b800e_row12_col4, #T_b800e_row12_col5, #T_b800e_row12_col6, #T_b800e_row13_col0, #T_b800e_row13_col1, #T_b800e_row13_col2, #T_b800e_row13_col3, #T_b800e_row13_col4, #T_b800e_row13_col5, #T_b800e_row13_col6, #T_b800e_row14_col0, #T_b800e_row14_col1, #T_b800e_row14_col2, #T_b800e_row14_col3, #T_b800e_row14_col4, #T_b800e_row14_col5, #T_b800e_row14_col6, #T_b800e_row15_col0, #T_b800e_row15_col1, #T_b800e_row15_col2, #T_b800e_row15_col3, #T_b800e_row15_col4, #T_b800e_row15_col5, #T_b800e_row15_col6, #T_b800e_row16_col0, #T_b800e_row16_col1, #T_b800e_row16_col2, #T_b800e_row16_col3, #T_b800e_row16_col4, #T_b800e_row16_col5, #T_b800e_row16_col6, #T_b800e_row17_col0, #T_b800e_row17_col1, #T_b800e_row17_col2, #T_b800e_row17_col3, #T_b800e_row17_col4, #T_b800e_row17_col5, #T_b800e_row17_col6 {\n",
       "  text-align: left;\n",
       "}\n",
       "#T_b800e_row0_col1, #T_b800e_row0_col2, #T_b800e_row0_col3, #T_b800e_row0_col4, #T_b800e_row0_col5, #T_b800e_row0_col6 {\n",
       "  text-align: left;\n",
       "  background-color: yellow;\n",
       "}\n",
       "#T_b800e_row0_col7, #T_b800e_row1_col7, #T_b800e_row2_col7, #T_b800e_row3_col7, #T_b800e_row4_col7, #T_b800e_row5_col7, #T_b800e_row6_col7, #T_b800e_row7_col7, #T_b800e_row8_col7, #T_b800e_row10_col7, #T_b800e_row11_col7, #T_b800e_row12_col7, #T_b800e_row13_col7, #T_b800e_row14_col7, #T_b800e_row16_col7, #T_b800e_row17_col7 {\n",
       "  text-align: left;\n",
       "  background-color: lightgrey;\n",
       "}\n",
       "#T_b800e_row9_col7, #T_b800e_row15_col7 {\n",
       "  text-align: left;\n",
       "  background-color: yellow;\n",
       "  background-color: lightgrey;\n",
       "}\n",
       "</style>\n",
       "<table id=\"T_b800e\">\n",
       "  <thead>\n",
       "    <tr>\n",
       "      <th class=\"blank level0\" >&nbsp;</th>\n",
       "      <th id=\"T_b800e_level0_col0\" class=\"col_heading level0 col0\" >Model</th>\n",
       "      <th id=\"T_b800e_level0_col1\" class=\"col_heading level0 col1\" >MAE</th>\n",
       "      <th id=\"T_b800e_level0_col2\" class=\"col_heading level0 col2\" >MSE</th>\n",
       "      <th id=\"T_b800e_level0_col3\" class=\"col_heading level0 col3\" >RMSE</th>\n",
       "      <th id=\"T_b800e_level0_col4\" class=\"col_heading level0 col4\" >R2</th>\n",
       "      <th id=\"T_b800e_level0_col5\" class=\"col_heading level0 col5\" >RMSLE</th>\n",
       "      <th id=\"T_b800e_level0_col6\" class=\"col_heading level0 col6\" >MAPE</th>\n",
       "      <th id=\"T_b800e_level0_col7\" class=\"col_heading level0 col7\" >TT (Sec)</th>\n",
       "    </tr>\n",
       "  </thead>\n",
       "  <tbody>\n",
       "    <tr>\n",
       "      <th id=\"T_b800e_level0_row0\" class=\"row_heading level0 row0\" >et</th>\n",
       "      <td id=\"T_b800e_row0_col0\" class=\"data row0 col0\" >Extra Trees Regressor</td>\n",
       "      <td id=\"T_b800e_row0_col1\" class=\"data row0 col1\" >0.0084</td>\n",
       "      <td id=\"T_b800e_row0_col2\" class=\"data row0 col2\" >0.0006</td>\n",
       "      <td id=\"T_b800e_row0_col3\" class=\"data row0 col3\" >0.0234</td>\n",
       "      <td id=\"T_b800e_row0_col4\" class=\"data row0 col4\" >1.0000</td>\n",
       "      <td id=\"T_b800e_row0_col5\" class=\"data row0 col5\" >0.0018</td>\n",
       "      <td id=\"T_b800e_row0_col6\" class=\"data row0 col6\" >0.0006</td>\n",
       "      <td id=\"T_b800e_row0_col7\" class=\"data row0 col7\" >0.1360</td>\n",
       "    </tr>\n",
       "    <tr>\n",
       "      <th id=\"T_b800e_level0_row1\" class=\"row_heading level0 row1\" >rf</th>\n",
       "      <td id=\"T_b800e_row1_col0\" class=\"data row1 col0\" >Random Forest Regressor</td>\n",
       "      <td id=\"T_b800e_row1_col1\" class=\"data row1 col1\" >0.0325</td>\n",
       "      <td id=\"T_b800e_row1_col2\" class=\"data row1 col2\" >0.0034</td>\n",
       "      <td id=\"T_b800e_row1_col3\" class=\"data row1 col3\" >0.0582</td>\n",
       "      <td id=\"T_b800e_row1_col4\" class=\"data row1 col4\" >0.9999</td>\n",
       "      <td id=\"T_b800e_row1_col5\" class=\"data row1 col5\" >0.0047</td>\n",
       "      <td id=\"T_b800e_row1_col6\" class=\"data row1 col6\" >0.0026</td>\n",
       "      <td id=\"T_b800e_row1_col7\" class=\"data row1 col7\" >0.1430</td>\n",
       "    </tr>\n",
       "    <tr>\n",
       "      <th id=\"T_b800e_level0_row2\" class=\"row_heading level0 row2\" >lightgbm</th>\n",
       "      <td id=\"T_b800e_row2_col0\" class=\"data row2 col0\" >Light Gradient Boosting Machine</td>\n",
       "      <td id=\"T_b800e_row2_col1\" class=\"data row2 col1\" >0.0322</td>\n",
       "      <td id=\"T_b800e_row2_col2\" class=\"data row2 col2\" >0.0040</td>\n",
       "      <td id=\"T_b800e_row2_col3\" class=\"data row2 col3\" >0.0630</td>\n",
       "      <td id=\"T_b800e_row2_col4\" class=\"data row2 col4\" >0.9999</td>\n",
       "      <td id=\"T_b800e_row2_col5\" class=\"data row2 col5\" >0.0044</td>\n",
       "      <td id=\"T_b800e_row2_col6\" class=\"data row2 col6\" >0.0025</td>\n",
       "      <td id=\"T_b800e_row2_col7\" class=\"data row2 col7\" >0.1160</td>\n",
       "    </tr>\n",
       "    <tr>\n",
       "      <th id=\"T_b800e_level0_row3\" class=\"row_heading level0 row3\" >dt</th>\n",
       "      <td id=\"T_b800e_row3_col0\" class=\"data row3 col0\" >Decision Tree Regressor</td>\n",
       "      <td id=\"T_b800e_row3_col1\" class=\"data row3 col1\" >0.0472</td>\n",
       "      <td id=\"T_b800e_row3_col2\" class=\"data row3 col2\" >0.0073</td>\n",
       "      <td id=\"T_b800e_row3_col3\" class=\"data row3 col3\" >0.0855</td>\n",
       "      <td id=\"T_b800e_row3_col4\" class=\"data row3 col4\" >0.9998</td>\n",
       "      <td id=\"T_b800e_row3_col5\" class=\"data row3 col5\" >0.0058</td>\n",
       "      <td id=\"T_b800e_row3_col6\" class=\"data row3 col6\" >0.0033</td>\n",
       "      <td id=\"T_b800e_row3_col7\" class=\"data row3 col7\" >0.0140</td>\n",
       "    </tr>\n",
       "    <tr>\n",
       "      <th id=\"T_b800e_level0_row4\" class=\"row_heading level0 row4\" >gbr</th>\n",
       "      <td id=\"T_b800e_row4_col0\" class=\"data row4 col0\" >Gradient Boosting Regressor</td>\n",
       "      <td id=\"T_b800e_row4_col1\" class=\"data row4 col1\" >0.0769</td>\n",
       "      <td id=\"T_b800e_row4_col2\" class=\"data row4 col2\" >0.0160</td>\n",
       "      <td id=\"T_b800e_row4_col3\" class=\"data row4 col3\" >0.1261</td>\n",
       "      <td id=\"T_b800e_row4_col4\" class=\"data row4 col4\" >0.9997</td>\n",
       "      <td id=\"T_b800e_row4_col5\" class=\"data row4 col5\" >0.0111</td>\n",
       "      <td id=\"T_b800e_row4_col6\" class=\"data row4 col6\" >0.0078</td>\n",
       "      <td id=\"T_b800e_row4_col7\" class=\"data row4 col7\" >0.0730</td>\n",
       "    </tr>\n",
       "    <tr>\n",
       "      <th id=\"T_b800e_level0_row5\" class=\"row_heading level0 row5\" >knn</th>\n",
       "      <td id=\"T_b800e_row5_col0\" class=\"data row5 col0\" >K Neighbors Regressor</td>\n",
       "      <td id=\"T_b800e_row5_col1\" class=\"data row5 col1\" >0.1544</td>\n",
       "      <td id=\"T_b800e_row5_col2\" class=\"data row5 col2\" >0.0499</td>\n",
       "      <td id=\"T_b800e_row5_col3\" class=\"data row5 col3\" >0.2230</td>\n",
       "      <td id=\"T_b800e_row5_col4\" class=\"data row5 col4\" >0.9990</td>\n",
       "      <td id=\"T_b800e_row5_col5\" class=\"data row5 col5\" >0.0380</td>\n",
       "      <td id=\"T_b800e_row5_col6\" class=\"data row5 col6\" >0.0243</td>\n",
       "      <td id=\"T_b800e_row5_col7\" class=\"data row5 col7\" >0.0160</td>\n",
       "    </tr>\n",
       "    <tr>\n",
       "      <th id=\"T_b800e_level0_row6\" class=\"row_heading level0 row6\" >ada</th>\n",
       "      <td id=\"T_b800e_row6_col0\" class=\"data row6 col0\" >AdaBoost Regressor</td>\n",
       "      <td id=\"T_b800e_row6_col1\" class=\"data row6 col1\" >0.5595</td>\n",
       "      <td id=\"T_b800e_row6_col2\" class=\"data row6 col2\" >0.4369</td>\n",
       "      <td id=\"T_b800e_row6_col3\" class=\"data row6 col3\" >0.6605</td>\n",
       "      <td id=\"T_b800e_row6_col4\" class=\"data row6 col4\" >0.9910</td>\n",
       "      <td id=\"T_b800e_row6_col5\" class=\"data row6 col5\" >0.0921</td>\n",
       "      <td id=\"T_b800e_row6_col6\" class=\"data row6 col6\" >0.0749</td>\n",
       "      <td id=\"T_b800e_row6_col7\" class=\"data row6 col7\" >0.0650</td>\n",
       "    </tr>\n",
       "    <tr>\n",
       "      <th id=\"T_b800e_level0_row7\" class=\"row_heading level0 row7\" >lar</th>\n",
       "      <td id=\"T_b800e_row7_col0\" class=\"data row7 col0\" >Least Angle Regression</td>\n",
       "      <td id=\"T_b800e_row7_col1\" class=\"data row7 col1\" >1.0915</td>\n",
       "      <td id=\"T_b800e_row7_col2\" class=\"data row7 col2\" >1.7202</td>\n",
       "      <td id=\"T_b800e_row7_col3\" class=\"data row7 col3\" >1.3110</td>\n",
       "      <td id=\"T_b800e_row7_col4\" class=\"data row7 col4\" >0.9646</td>\n",
       "      <td id=\"T_b800e_row7_col5\" class=\"data row7 col5\" >0.1913</td>\n",
       "      <td id=\"T_b800e_row7_col6\" class=\"data row7 col6\" >0.1782</td>\n",
       "      <td id=\"T_b800e_row7_col7\" class=\"data row7 col7\" >0.0130</td>\n",
       "    </tr>\n",
       "    <tr>\n",
       "      <th id=\"T_b800e_level0_row8\" class=\"row_heading level0 row8\" >br</th>\n",
       "      <td id=\"T_b800e_row8_col0\" class=\"data row8 col0\" >Bayesian Ridge</td>\n",
       "      <td id=\"T_b800e_row8_col1\" class=\"data row8 col1\" >1.0915</td>\n",
       "      <td id=\"T_b800e_row8_col2\" class=\"data row8 col2\" >1.7202</td>\n",
       "      <td id=\"T_b800e_row8_col3\" class=\"data row8 col3\" >1.3110</td>\n",
       "      <td id=\"T_b800e_row8_col4\" class=\"data row8 col4\" >0.9646</td>\n",
       "      <td id=\"T_b800e_row8_col5\" class=\"data row8 col5\" >0.1913</td>\n",
       "      <td id=\"T_b800e_row8_col6\" class=\"data row8 col6\" >0.1782</td>\n",
       "      <td id=\"T_b800e_row8_col7\" class=\"data row8 col7\" >0.0140</td>\n",
       "    </tr>\n",
       "    <tr>\n",
       "      <th id=\"T_b800e_level0_row9\" class=\"row_heading level0 row9\" >ridge</th>\n",
       "      <td id=\"T_b800e_row9_col0\" class=\"data row9 col0\" >Ridge Regression</td>\n",
       "      <td id=\"T_b800e_row9_col1\" class=\"data row9 col1\" >1.0915</td>\n",
       "      <td id=\"T_b800e_row9_col2\" class=\"data row9 col2\" >1.7202</td>\n",
       "      <td id=\"T_b800e_row9_col3\" class=\"data row9 col3\" >1.3110</td>\n",
       "      <td id=\"T_b800e_row9_col4\" class=\"data row9 col4\" >0.9646</td>\n",
       "      <td id=\"T_b800e_row9_col5\" class=\"data row9 col5\" >0.1913</td>\n",
       "      <td id=\"T_b800e_row9_col6\" class=\"data row9 col6\" >0.1782</td>\n",
       "      <td id=\"T_b800e_row9_col7\" class=\"data row9 col7\" >0.0120</td>\n",
       "    </tr>\n",
       "    <tr>\n",
       "      <th id=\"T_b800e_level0_row10\" class=\"row_heading level0 row10\" >lr</th>\n",
       "      <td id=\"T_b800e_row10_col0\" class=\"data row10 col0\" >Linear Regression</td>\n",
       "      <td id=\"T_b800e_row10_col1\" class=\"data row10 col1\" >1.0915</td>\n",
       "      <td id=\"T_b800e_row10_col2\" class=\"data row10 col2\" >1.7202</td>\n",
       "      <td id=\"T_b800e_row10_col3\" class=\"data row10 col3\" >1.3110</td>\n",
       "      <td id=\"T_b800e_row10_col4\" class=\"data row10 col4\" >0.9646</td>\n",
       "      <td id=\"T_b800e_row10_col5\" class=\"data row10 col5\" >0.1913</td>\n",
       "      <td id=\"T_b800e_row10_col6\" class=\"data row10 col6\" >0.1782</td>\n",
       "      <td id=\"T_b800e_row10_col7\" class=\"data row10 col7\" >0.8660</td>\n",
       "    </tr>\n",
       "    <tr>\n",
       "      <th id=\"T_b800e_level0_row11\" class=\"row_heading level0 row11\" >lasso</th>\n",
       "      <td id=\"T_b800e_row11_col0\" class=\"data row11 col0\" >Lasso Regression</td>\n",
       "      <td id=\"T_b800e_row11_col1\" class=\"data row11 col1\" >1.1014</td>\n",
       "      <td id=\"T_b800e_row11_col2\" class=\"data row11 col2\" >1.7451</td>\n",
       "      <td id=\"T_b800e_row11_col3\" class=\"data row11 col3\" >1.3205</td>\n",
       "      <td id=\"T_b800e_row11_col4\" class=\"data row11 col4\" >0.9641</td>\n",
       "      <td id=\"T_b800e_row11_col5\" class=\"data row11 col5\" >0.1968</td>\n",
       "      <td id=\"T_b800e_row11_col6\" class=\"data row11 col6\" >0.1845</td>\n",
       "      <td id=\"T_b800e_row11_col7\" class=\"data row11 col7\" >0.0150</td>\n",
       "    </tr>\n",
       "    <tr>\n",
       "      <th id=\"T_b800e_level0_row12\" class=\"row_heading level0 row12\" >en</th>\n",
       "      <td id=\"T_b800e_row12_col0\" class=\"data row12 col0\" >Elastic Net</td>\n",
       "      <td id=\"T_b800e_row12_col1\" class=\"data row12 col1\" >1.0994</td>\n",
       "      <td id=\"T_b800e_row12_col2\" class=\"data row12 col2\" >1.7423</td>\n",
       "      <td id=\"T_b800e_row12_col3\" class=\"data row12 col3\" >1.3194</td>\n",
       "      <td id=\"T_b800e_row12_col4\" class=\"data row12 col4\" >0.9641</td>\n",
       "      <td id=\"T_b800e_row12_col5\" class=\"data row12 col5\" >0.1953</td>\n",
       "      <td id=\"T_b800e_row12_col6\" class=\"data row12 col6\" >0.1828</td>\n",
       "      <td id=\"T_b800e_row12_col7\" class=\"data row12 col7\" >0.0160</td>\n",
       "    </tr>\n",
       "    <tr>\n",
       "      <th id=\"T_b800e_level0_row13\" class=\"row_heading level0 row13\" >llar</th>\n",
       "      <td id=\"T_b800e_row13_col0\" class=\"data row13 col0\" >Lasso Least Angle Regression</td>\n",
       "      <td id=\"T_b800e_row13_col1\" class=\"data row13 col1\" >1.1014</td>\n",
       "      <td id=\"T_b800e_row13_col2\" class=\"data row13 col2\" >1.7451</td>\n",
       "      <td id=\"T_b800e_row13_col3\" class=\"data row13 col3\" >1.3205</td>\n",
       "      <td id=\"T_b800e_row13_col4\" class=\"data row13 col4\" >0.9641</td>\n",
       "      <td id=\"T_b800e_row13_col5\" class=\"data row13 col5\" >0.1968</td>\n",
       "      <td id=\"T_b800e_row13_col6\" class=\"data row13 col6\" >0.1845</td>\n",
       "      <td id=\"T_b800e_row13_col7\" class=\"data row13 col7\" >0.0140</td>\n",
       "    </tr>\n",
       "    <tr>\n",
       "      <th id=\"T_b800e_level0_row14\" class=\"row_heading level0 row14\" >huber</th>\n",
       "      <td id=\"T_b800e_row14_col0\" class=\"data row14 col0\" >Huber Regressor</td>\n",
       "      <td id=\"T_b800e_row14_col1\" class=\"data row14 col1\" >1.0660</td>\n",
       "      <td id=\"T_b800e_row14_col2\" class=\"data row14 col2\" >1.7615</td>\n",
       "      <td id=\"T_b800e_row14_col3\" class=\"data row14 col3\" >1.3265</td>\n",
       "      <td id=\"T_b800e_row14_col4\" class=\"data row14 col4\" >0.9638</td>\n",
       "      <td id=\"T_b800e_row14_col5\" class=\"data row14 col5\" >0.2027</td>\n",
       "      <td id=\"T_b800e_row14_col6\" class=\"data row14 col6\" >0.1881</td>\n",
       "      <td id=\"T_b800e_row14_col7\" class=\"data row14 col7\" >0.0180</td>\n",
       "    </tr>\n",
       "    <tr>\n",
       "      <th id=\"T_b800e_level0_row15\" class=\"row_heading level0 row15\" >omp</th>\n",
       "      <td id=\"T_b800e_row15_col0\" class=\"data row15 col0\" >Orthogonal Matching Pursuit</td>\n",
       "      <td id=\"T_b800e_row15_col1\" class=\"data row15 col1\" >1.2143</td>\n",
       "      <td id=\"T_b800e_row15_col2\" class=\"data row15 col2\" >2.0513</td>\n",
       "      <td id=\"T_b800e_row15_col3\" class=\"data row15 col3\" >1.4318</td>\n",
       "      <td id=\"T_b800e_row15_col4\" class=\"data row15 col4\" >0.9578</td>\n",
       "      <td id=\"T_b800e_row15_col5\" class=\"data row15 col5\" >0.1980</td>\n",
       "      <td id=\"T_b800e_row15_col6\" class=\"data row15 col6\" >0.1910</td>\n",
       "      <td id=\"T_b800e_row15_col7\" class=\"data row15 col7\" >0.0120</td>\n",
       "    </tr>\n",
       "    <tr>\n",
       "      <th id=\"T_b800e_level0_row16\" class=\"row_heading level0 row16\" >par</th>\n",
       "      <td id=\"T_b800e_row16_col0\" class=\"data row16 col0\" >Passive Aggressive Regressor</td>\n",
       "      <td id=\"T_b800e_row16_col1\" class=\"data row16 col1\" >1.3273</td>\n",
       "      <td id=\"T_b800e_row16_col2\" class=\"data row16 col2\" >3.2158</td>\n",
       "      <td id=\"T_b800e_row16_col3\" class=\"data row16 col3\" >1.7749</td>\n",
       "      <td id=\"T_b800e_row16_col4\" class=\"data row16 col4\" >0.9341</td>\n",
       "      <td id=\"T_b800e_row16_col5\" class=\"data row16 col5\" >0.1832</td>\n",
       "      <td id=\"T_b800e_row16_col6\" class=\"data row16 col6\" >0.1725</td>\n",
       "      <td id=\"T_b800e_row16_col7\" class=\"data row16 col7\" >0.0190</td>\n",
       "    </tr>\n",
       "    <tr>\n",
       "      <th id=\"T_b800e_level0_row17\" class=\"row_heading level0 row17\" >dummy</th>\n",
       "      <td id=\"T_b800e_row17_col0\" class=\"data row17 col0\" >Dummy Regressor</td>\n",
       "      <td id=\"T_b800e_row17_col1\" class=\"data row17 col1\" >5.9657</td>\n",
       "      <td id=\"T_b800e_row17_col2\" class=\"data row17 col2\" >48.7063</td>\n",
       "      <td id=\"T_b800e_row17_col3\" class=\"data row17 col3\" >6.9772</td>\n",
       "      <td id=\"T_b800e_row17_col4\" class=\"data row17 col4\" >-0.0018</td>\n",
       "      <td id=\"T_b800e_row17_col5\" class=\"data row17 col5\" >0.6276</td>\n",
       "      <td id=\"T_b800e_row17_col6\" class=\"data row17 col6\" >1.0068</td>\n",
       "      <td id=\"T_b800e_row17_col7\" class=\"data row17 col7\" >0.0190</td>\n",
       "    </tr>\n",
       "  </tbody>\n",
       "</table>\n"
      ],
      "text/plain": [
       "<pandas.io.formats.style.Styler at 0x118e018b9d0>"
      ]
     },
     "metadata": {},
     "output_type": "display_data"
    },
    {
     "data": {
      "text/html": [],
      "text/plain": [
       "<IPython.core.display.HTML object>"
      ]
     },
     "metadata": {},
     "output_type": "display_data"
    },
    {
     "name": "stderr",
     "output_type": "stream",
     "text": [
      "c:\\Users\\H.P\\anaconda3\\Lib\\site-packages\\pycaret\\internal\\pycaret_experiment\\supervised_experiment.py:339: FutureWarning:\n",
      "\n",
      "Styler.applymap has been deprecated. Use Styler.map instead.\n",
      "\n"
     ]
    },
    {
     "name": "stdout",
     "output_type": "stream",
     "text": [
      "ExtraTreesRegressor(n_jobs=-1, random_state=100)\n"
     ]
    }
   ],
   "source": [
    "best_model  = compare_models()\n",
    "print(best_model )\n"
   ]
  },
  {
   "cell_type": "markdown",
   "metadata": {},
   "source": [
    "## Evaluate Model\n",
    "The evaluate_model() function  provides a detailed analysis of the chosen model's performance, including visualizations and metrics."
   ]
  },
  {
   "cell_type": "code",
   "execution_count": 78,
   "metadata": {},
   "outputs": [
    {
     "data": {
      "application/vnd.jupyter.widget-view+json": {
       "model_id": "94ab3b59028a4da5ae6a003750ca468e",
       "version_major": 2,
       "version_minor": 0
      },
      "text/plain": [
       "interactive(children=(ToggleButtons(description='Plot Type:', icons=('',), options=(('Pipeline Plot', 'pipelin…"
      ]
     },
     "metadata": {},
     "output_type": "display_data"
    }
   ],
   "source": [
    "evaluate_model(best_model ) "
   ]
  },
  {
   "cell_type": "markdown",
   "metadata": {},
   "source": [
    "## Predict on Test Set\n",
    "In this part, the model will be tested on data that it was not trained on, which represents 20% of the data\n",
    "\n",
    "With a small Mean Absolute Error (MAE), it meaning the average difference between predicted and actual values is minimal and the model predicts PPV values ​​excellently."
   ]
  },
  {
   "cell_type": "code",
   "execution_count": 79,
   "metadata": {},
   "outputs": [
    {
     "data": {
      "text/html": [
       "<style type=\"text/css\">\n",
       "</style>\n",
       "<table id=\"T_538ef\">\n",
       "  <thead>\n",
       "    <tr>\n",
       "      <th class=\"blank level0\" >&nbsp;</th>\n",
       "      <th id=\"T_538ef_level0_col0\" class=\"col_heading level0 col0\" >Model</th>\n",
       "      <th id=\"T_538ef_level0_col1\" class=\"col_heading level0 col1\" >MAE</th>\n",
       "      <th id=\"T_538ef_level0_col2\" class=\"col_heading level0 col2\" >MSE</th>\n",
       "      <th id=\"T_538ef_level0_col3\" class=\"col_heading level0 col3\" >RMSE</th>\n",
       "      <th id=\"T_538ef_level0_col4\" class=\"col_heading level0 col4\" >R2</th>\n",
       "      <th id=\"T_538ef_level0_col5\" class=\"col_heading level0 col5\" >RMSLE</th>\n",
       "      <th id=\"T_538ef_level0_col6\" class=\"col_heading level0 col6\" >MAPE</th>\n",
       "    </tr>\n",
       "  </thead>\n",
       "  <tbody>\n",
       "    <tr>\n",
       "      <th id=\"T_538ef_level0_row0\" class=\"row_heading level0 row0\" >0</th>\n",
       "      <td id=\"T_538ef_row0_col0\" class=\"data row0 col0\" >Extra Trees Regressor</td>\n",
       "      <td id=\"T_538ef_row0_col1\" class=\"data row0 col1\" >0.0086</td>\n",
       "      <td id=\"T_538ef_row0_col2\" class=\"data row0 col2\" >0.0008</td>\n",
       "      <td id=\"T_538ef_row0_col3\" class=\"data row0 col3\" >0.0279</td>\n",
       "      <td id=\"T_538ef_row0_col4\" class=\"data row0 col4\" >1.0000</td>\n",
       "      <td id=\"T_538ef_row0_col5\" class=\"data row0 col5\" >0.0023</td>\n",
       "      <td id=\"T_538ef_row0_col6\" class=\"data row0 col6\" >0.0006</td>\n",
       "    </tr>\n",
       "  </tbody>\n",
       "</table>\n"
      ],
      "text/plain": [
       "<pandas.io.formats.style.Styler at 0x1188f7a2250>"
      ]
     },
     "metadata": {},
     "output_type": "display_data"
    },
    {
     "name": "stdout",
     "output_type": "stream",
     "text": [
      "MAE(Mean Absolute Error):  0.008552081735355807\n",
      "RMSE(Mean Squared Error):  0.02789045343241796\n"
     ]
    },
    {
     "name": "stderr",
     "output_type": "stream",
     "text": [
      "c:\\Users\\H.P\\anaconda3\\Lib\\site-packages\\sklearn\\metrics\\_regression.py:483: FutureWarning:\n",
      "\n",
      "'squared' is deprecated in version 1.4 and will be removed in 1.6. To calculate the root mean squared error, use the function'root_mean_squared_error'.\n",
      "\n"
     ]
    },
    {
     "data": {
      "text/html": [
       "<div>\n",
       "<style scoped>\n",
       "    .dataframe tbody tr th:only-of-type {\n",
       "        vertical-align: middle;\n",
       "    }\n",
       "\n",
       "    .dataframe tbody tr th {\n",
       "        vertical-align: top;\n",
       "    }\n",
       "\n",
       "    .dataframe thead th {\n",
       "        text-align: right;\n",
       "    }\n",
       "</style>\n",
       "<table border=\"1\" class=\"dataframe\">\n",
       "  <thead>\n",
       "    <tr style=\"text-align: right;\">\n",
       "      <th></th>\n",
       "      <th>Gender</th>\n",
       "      <th>Age</th>\n",
       "      <th>Dur</th>\n",
       "      <th>PPV</th>\n",
       "      <th>prediction_label</th>\n",
       "    </tr>\n",
       "  </thead>\n",
       "  <tbody>\n",
       "    <tr>\n",
       "      <th>4560</th>\n",
       "      <td>Female</td>\n",
       "      <td>43</td>\n",
       "      <td>32</td>\n",
       "      <td>19.737616</td>\n",
       "      <td>19.771211</td>\n",
       "    </tr>\n",
       "    <tr>\n",
       "      <th>1564</th>\n",
       "      <td>Male</td>\n",
       "      <td>35</td>\n",
       "      <td>11</td>\n",
       "      <td>9.445037</td>\n",
       "      <td>9.443396</td>\n",
       "    </tr>\n",
       "    <tr>\n",
       "      <th>1645</th>\n",
       "      <td>Male</td>\n",
       "      <td>37</td>\n",
       "      <td>1</td>\n",
       "      <td>1.000000</td>\n",
       "      <td>1.000000</td>\n",
       "    </tr>\n",
       "    <tr>\n",
       "      <th>3355</th>\n",
       "      <td>Female</td>\n",
       "      <td>18</td>\n",
       "      <td>11</td>\n",
       "      <td>9.482568</td>\n",
       "      <td>9.482660</td>\n",
       "    </tr>\n",
       "    <tr>\n",
       "      <th>652</th>\n",
       "      <td>Male</td>\n",
       "      <td>16</td>\n",
       "      <td>40</td>\n",
       "      <td>23.248060</td>\n",
       "      <td>23.241538</td>\n",
       "    </tr>\n",
       "    <tr>\n",
       "      <th>4034</th>\n",
       "      <td>Female</td>\n",
       "      <td>31</td>\n",
       "      <td>40</td>\n",
       "      <td>22.924696</td>\n",
       "      <td>22.934663</td>\n",
       "    </tr>\n",
       "    <tr>\n",
       "      <th>1617</th>\n",
       "      <td>Male</td>\n",
       "      <td>36</td>\n",
       "      <td>18</td>\n",
       "      <td>13.872947</td>\n",
       "      <td>13.868043</td>\n",
       "    </tr>\n",
       "    <tr>\n",
       "      <th>4887</th>\n",
       "      <td>Female</td>\n",
       "      <td>53</td>\n",
       "      <td>24</td>\n",
       "      <td>15.931975</td>\n",
       "      <td>15.904194</td>\n",
       "    </tr>\n",
       "    <tr>\n",
       "      <th>1267</th>\n",
       "      <td>Male</td>\n",
       "      <td>29</td>\n",
       "      <td>8</td>\n",
       "      <td>7.199136</td>\n",
       "      <td>7.199047</td>\n",
       "    </tr>\n",
       "    <tr>\n",
       "      <th>3222</th>\n",
       "      <td>Female</td>\n",
       "      <td>15</td>\n",
       "      <td>22</td>\n",
       "      <td>16.252451</td>\n",
       "      <td>16.252783</td>\n",
       "    </tr>\n",
       "  </tbody>\n",
       "</table>\n",
       "</div>"
      ],
      "text/plain": [
       "      Gender  Age  Dur        PPV  prediction_label\n",
       "4560  Female   43   32  19.737616         19.771211\n",
       "1564    Male   35   11   9.445037          9.443396\n",
       "1645    Male   37    1   1.000000          1.000000\n",
       "3355  Female   18   11   9.482568          9.482660\n",
       "652     Male   16   40  23.248060         23.241538\n",
       "4034  Female   31   40  22.924696         22.934663\n",
       "1617    Male   36   18  13.872947         13.868043\n",
       "4887  Female   53   24  15.931975         15.904194\n",
       "1267    Male   29    8   7.199136          7.199047\n",
       "3222  Female   15   22  16.252451         16.252783"
      ]
     },
     "execution_count": 79,
     "metadata": {},
     "output_type": "execute_result"
    }
   ],
   "source": [
    "from sklearn.metrics import mean_absolute_error, mean_squared_error\n",
    "test = predict_model(best_model)\n",
    "print(\"MAE(Mean Absolute Error): \", mean_absolute_error(test['PPV'], test['prediction_label']))\n",
    "print(\"RMSE(Mean Squared Error): \", mean_squared_error(test['PPV'], test['prediction_label'], squared=False))\n",
    "test.head(10)"
   ]
  },
  {
   "cell_type": "markdown",
   "metadata": {},
   "source": [
    "## Predict on Data"
   ]
  },
  {
   "cell_type": "code",
   "execution_count": 80,
   "metadata": {},
   "outputs": [
    {
     "data": {
      "text/html": [],
      "text/plain": [
       "<IPython.core.display.HTML object>"
      ]
     },
     "metadata": {},
     "output_type": "display_data"
    },
    {
     "name": "stdout",
     "output_type": "stream",
     "text": [
      "Data with prediction PPV\n"
     ]
    },
    {
     "data": {
      "text/html": [
       "<div>\n",
       "<style scoped>\n",
       "    .dataframe tbody tr th:only-of-type {\n",
       "        vertical-align: middle;\n",
       "    }\n",
       "\n",
       "    .dataframe tbody tr th {\n",
       "        vertical-align: top;\n",
       "    }\n",
       "\n",
       "    .dataframe thead th {\n",
       "        text-align: right;\n",
       "    }\n",
       "</style>\n",
       "<table border=\"1\" class=\"dataframe\">\n",
       "  <thead>\n",
       "    <tr style=\"text-align: right;\">\n",
       "      <th></th>\n",
       "      <th>Gender</th>\n",
       "      <th>Age</th>\n",
       "      <th>Dur</th>\n",
       "      <th>prediction_label</th>\n",
       "    </tr>\n",
       "  </thead>\n",
       "  <tbody>\n",
       "    <tr>\n",
       "      <th>0</th>\n",
       "      <td>Male</td>\n",
       "      <td>0</td>\n",
       "      <td>20</td>\n",
       "      <td>15.198438</td>\n",
       "    </tr>\n",
       "    <tr>\n",
       "      <th>1</th>\n",
       "      <td>Male</td>\n",
       "      <td>0</td>\n",
       "      <td>21</td>\n",
       "      <td>15.741014</td>\n",
       "    </tr>\n",
       "    <tr>\n",
       "      <th>2</th>\n",
       "      <td>Male</td>\n",
       "      <td>0</td>\n",
       "      <td>22</td>\n",
       "      <td>16.267189</td>\n",
       "    </tr>\n",
       "    <tr>\n",
       "      <th>3</th>\n",
       "      <td>Male</td>\n",
       "      <td>0</td>\n",
       "      <td>23</td>\n",
       "      <td>16.777449</td>\n",
       "    </tr>\n",
       "    <tr>\n",
       "      <th>4</th>\n",
       "      <td>Male</td>\n",
       "      <td>0</td>\n",
       "      <td>24</td>\n",
       "      <td>17.272268</td>\n",
       "    </tr>\n",
       "  </tbody>\n",
       "</table>\n",
       "</div>"
      ],
      "text/plain": [
       "  Gender  Age  Dur  prediction_label\n",
       "0   Male    0   20         15.198438\n",
       "1   Male    0   21         15.741014\n",
       "2   Male    0   22         16.267189\n",
       "3   Male    0   23         16.777449\n",
       "4   Male    0   24         17.272268"
      ]
     },
     "execution_count": 80,
     "metadata": {},
     "output_type": "execute_result"
    }
   ],
   "source": [
    "new_df = df.copy().drop('PPV', axis=1)\n",
    "predictions = predict_model(best_model, data=new_df)\n",
    "print(\"Data with prediction PPV\")\n",
    "predictions.head()\n"
   ]
  },
  {
   "cell_type": "code",
   "execution_count": 81,
   "metadata": {},
   "outputs": [
    {
     "name": "stdout",
     "output_type": "stream",
     "text": [
      "Data with orginal PPV\n"
     ]
    },
    {
     "data": {
      "text/html": [
       "<div>\n",
       "<style scoped>\n",
       "    .dataframe tbody tr th:only-of-type {\n",
       "        vertical-align: middle;\n",
       "    }\n",
       "\n",
       "    .dataframe tbody tr th {\n",
       "        vertical-align: top;\n",
       "    }\n",
       "\n",
       "    .dataframe thead th {\n",
       "        text-align: right;\n",
       "    }\n",
       "</style>\n",
       "<table border=\"1\" class=\"dataframe\">\n",
       "  <thead>\n",
       "    <tr style=\"text-align: right;\">\n",
       "      <th></th>\n",
       "      <th>Gender</th>\n",
       "      <th>Age</th>\n",
       "      <th>Dur</th>\n",
       "      <th>PPV</th>\n",
       "    </tr>\n",
       "  </thead>\n",
       "  <tbody>\n",
       "    <tr>\n",
       "      <th>0</th>\n",
       "      <td>Male</td>\n",
       "      <td>0</td>\n",
       "      <td>20</td>\n",
       "      <td>15.198437</td>\n",
       "    </tr>\n",
       "    <tr>\n",
       "      <th>1</th>\n",
       "      <td>Male</td>\n",
       "      <td>0</td>\n",
       "      <td>21</td>\n",
       "      <td>15.741015</td>\n",
       "    </tr>\n",
       "    <tr>\n",
       "      <th>2</th>\n",
       "      <td>Male</td>\n",
       "      <td>0</td>\n",
       "      <td>22</td>\n",
       "      <td>16.267189</td>\n",
       "    </tr>\n",
       "    <tr>\n",
       "      <th>3</th>\n",
       "      <td>Male</td>\n",
       "      <td>0</td>\n",
       "      <td>23</td>\n",
       "      <td>16.777448</td>\n",
       "    </tr>\n",
       "    <tr>\n",
       "      <th>4</th>\n",
       "      <td>Male</td>\n",
       "      <td>0</td>\n",
       "      <td>24</td>\n",
       "      <td>17.272269</td>\n",
       "    </tr>\n",
       "  </tbody>\n",
       "</table>\n",
       "</div>"
      ],
      "text/plain": [
       "  Gender  Age  Dur        PPV\n",
       "0   Male    0   20  15.198437\n",
       "1   Male    0   21  15.741015\n",
       "2   Male    0   22  16.267189\n",
       "3   Male    0   23  16.777448\n",
       "4   Male    0   24  17.272269"
      ]
     },
     "execution_count": 81,
     "metadata": {},
     "output_type": "execute_result"
    }
   ],
   "source": [
    "print(\"Data with orginal PPV\")\n",
    "df.head()"
   ]
  },
  {
   "cell_type": "markdown",
   "metadata": {},
   "source": [
    "## Save the Model\n",
    "We save the model to use it later without need to training it again"
   ]
  },
  {
   "cell_type": "code",
   "execution_count": 82,
   "metadata": {},
   "outputs": [
    {
     "name": "stdout",
     "output_type": "stream",
     "text": [
      "Transformation Pipeline and Model Successfully Saved\n"
     ]
    },
    {
     "data": {
      "text/plain": [
       "(Pipeline(memory=Memory(location=None),\n",
       "          steps=[('numerical_imputer',\n",
       "                  TransformerWrapper(include=['Age', 'Dur'],\n",
       "                                     transformer=SimpleImputer())),\n",
       "                 ('categorical_imputer',\n",
       "                  TransformerWrapper(include=['Gender'],\n",
       "                                     transformer=SimpleImputer(strategy='most_frequent'))),\n",
       "                 ('ordinal_encoding',\n",
       "                  TransformerWrapper(include=['Gender'],\n",
       "                                     transformer=OrdinalEncoder(cols=['Gender'],\n",
       "                                                                handle_missing='return_nan',\n",
       "                                                                mapping=[{'col': 'Gender',\n",
       "                                                                          'data_type': dtype('O'),\n",
       "                                                                          'mapping': Female    0\n",
       " Male      1\n",
       " NaN      -1\n",
       " dtype: int64}]))),\n",
       "                 ('trained_model',\n",
       "                  ExtraTreesRegressor(n_jobs=-1, random_state=100))]),\n",
       " 'TG_T_CashValues_Rel_pipeline.pkl')"
      ]
     },
     "execution_count": 82,
     "metadata": {},
     "output_type": "execute_result"
    }
   ],
   "source": [
    "save_model(best_model, 'TG_T_CashValues_Rel_pipeline')"
   ]
  },
  {
   "cell_type": "markdown",
   "metadata": {},
   "source": [
    "## Load the Saved model and Use it"
   ]
  },
  {
   "cell_type": "code",
   "execution_count": 83,
   "metadata": {},
   "outputs": [
    {
     "name": "stdout",
     "output_type": "stream",
     "text": [
      "Transformation Pipeline and Model Successfully Loaded\n"
     ]
    },
    {
     "data": {
      "text/html": [],
      "text/plain": [
       "<IPython.core.display.HTML object>"
      ]
     },
     "metadata": {},
     "output_type": "display_data"
    },
    {
     "name": "stdout",
     "output_type": "stream",
     "text": [
      "  Gender  Age   Dur  prediction_label\n",
      "0   Male    0  15.7         12.633543\n"
     ]
    }
   ],
   "source": [
    "loaded_model = load_model('TG_T_CashValues_Rel_pipeline')\n",
    "new_data = pd.DataFrame({\n",
    "    'Gender': ['Male'],\n",
    "    'Age': [0],\n",
    "    'Dur': [15.7]\n",
    "})\n",
    "\n",
    "predictions = predict_model(loaded_model, data=new_data)\n",
    "print(predictions)\n",
    "\n"
   ]
  }
 ],
 "metadata": {
  "kernelspec": {
   "display_name": "base",
   "language": "python",
   "name": "python3"
  },
  "language_info": {
   "codemirror_mode": {
    "name": "ipython",
    "version": 3
   },
   "file_extension": ".py",
   "mimetype": "text/x-python",
   "name": "python",
   "nbconvert_exporter": "python",
   "pygments_lexer": "ipython3",
   "version": "3.11.4"
  }
 },
 "nbformat": 4,
 "nbformat_minor": 2
}
